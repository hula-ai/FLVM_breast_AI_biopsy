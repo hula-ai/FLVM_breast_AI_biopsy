{
 "cells": [
  {
   "cell_type": "code",
   "execution_count": 1,
   "metadata": {},
   "outputs": [
    {
     "name": "stderr",
     "output_type": "stream",
     "text": [
      "/project/hnguyen/hqvo2/miniconda3/envs/multimedal/lib/python3.8/site-packages/tqdm/auto.py:21: TqdmWarning: IProgress not found. Please update jupyter and ipywidgets. See https://ipywidgets.readthedocs.io/en/stable/user_install.html\n",
      "  from .autonotebook import tqdm as notebook_tqdm\n"
     ]
    }
   ],
   "source": [
    "from MultiMEDal_multimodal_medical.src.datasets.data_transform import (\n",
    "    build_transform_dict,\n",
    "    build_transform_dict_mamm,\n",
    "    build_transform_dict_blip2,\n",
    "    build_transform_dict_openclip\n",
    ")\n",
    "from MultiMEDal_multimodal_medical.src.datasets.EMBED import EMBED_dataset_tfds, EMBED_tabular_dataset\n",
    "from torch.utils.data import Dataset, DataLoader\n",
    "from MultiMEDal_multimodal_medical.src.datasets.preprocessing.prompt_factory import tab2prompt_breast_lesion"
   ]
  },
  {
   "cell_type": "code",
   "execution_count": 2,
   "metadata": {},
   "outputs": [],
   "source": [
    "transform_dict = build_transform_dict(input_size=224)"
   ]
  },
  {
   "cell_type": "code",
   "execution_count": 3,
   "metadata": {},
   "outputs": [
    {
     "name": "stderr",
     "output_type": "stream",
     "text": [
      "/home/hqvo2/Projects/MultiMEDal_multimodal_medical/src/datasets/EMBED.py:1194: DtypeWarning: Columns (28,31,33,48,49,53,54,55,56,57,59,81,84,85,93,111) have mixed types. Specify dtype option on import or set low_memory=False.\n",
      "  df_clinical = pd.read_csv(os.path.join(self.data_root, \"tables/EMBED_OpenData_clinical.csv\"))\n",
      "/home/hqvo2/Projects/MultiMEDal_multimodal_medical/src/datasets/EMBED.py:1202: DtypeWarning: Columns (115,116,117,118,119,120,130,132,133,134,135,136,138,143,147,148,149) have mixed types. Specify dtype option on import or set low_memory=False.\n",
      "  df_metadata = pd.read_csv(os.path.join(self.data_root, \"tables/EMBED_OpenData_metadata.csv\"))\n",
      "/project/hnguyen/hqvo2/miniconda3/envs/multimedal/lib/python3.8/site-packages/sklearn/preprocessing/_label.py:900: UserWarning: unknown class(es) [nan, nan, nan, nan, nan, nan, nan, nan, nan, nan, nan, nan, nan, nan, nan, nan, nan, nan, nan, nan, nan, nan, nan, nan, nan, nan, nan, nan, nan, nan, nan, nan, nan, nan, nan, nan, nan, nan, nan, nan, nan, nan, nan, nan, nan, nan, nan, nan, nan, nan, nan, nan, nan, nan, nan, nan, nan, nan, nan, nan, nan, nan, nan, nan, nan, nan, nan, nan, nan, nan, nan, nan, nan, nan, nan, nan, nan, nan, nan, nan, nan, nan, nan, nan, nan, nan, nan, nan, nan, nan, nan, nan, nan, nan, nan, nan, nan, nan, nan, nan, nan, nan, nan, nan, nan, nan, nan, nan, nan, nan, nan, nan, nan, nan, nan, nan, nan, nan, nan, nan, nan, nan, nan, nan, nan, nan, nan, nan, nan, nan, nan, nan, nan, nan, nan, nan, nan, nan, nan, nan, nan, nan, nan, nan, nan, nan, nan, nan, nan, nan, nan, nan, nan, nan, nan, nan, nan, nan, nan, nan, nan, nan, nan, nan, nan, nan, nan, nan, nan, nan, nan, nan, nan, nan, nan, nan, nan, nan, nan, nan, nan, nan, nan, nan, nan, nan, nan, nan, nan, nan, nan, nan, nan, nan, nan, nan, nan, nan, nan, nan, nan, nan, nan, nan, nan, nan, nan, nan, nan, nan, nan, nan, nan, nan, nan, nan, nan, nan, nan, nan, nan, nan, nan, nan, nan, nan, nan, nan, nan, nan, nan, nan, nan, nan, nan, nan, nan, nan, nan, nan, nan, nan, nan, nan, nan, nan, nan, nan, nan, nan, nan, nan, nan, nan, nan, nan, nan, nan, nan, nan, nan, nan, nan, nan, nan, nan, nan, nan, nan, nan, nan, nan, nan, nan, nan, nan, nan, nan, nan, nan, nan, nan, nan, nan, nan, nan, nan, nan, nan, nan, nan, nan, nan, nan, nan, nan, nan, nan, nan, nan, nan, nan, nan, nan, nan, nan, nan, nan, nan, nan, nan, nan, nan, nan, nan, nan, nan, nan, nan, nan, nan, nan, nan, nan, nan, nan, nan, nan, nan, nan, nan, nan, nan, nan, nan, nan, nan, nan, nan, nan, nan, nan, nan, nan, nan, nan, nan, nan, nan, nan, nan, nan, nan, nan, nan, nan, nan, nan, nan, nan, nan, nan, nan, nan, nan, nan, nan, nan, nan, nan, nan, nan, nan, nan, nan, nan, nan, nan, nan, nan, nan, nan, nan, nan, nan, nan, nan, nan, nan, nan, nan, nan, nan, nan, nan, nan, nan, nan, nan, nan, nan, nan, nan, nan, nan, nan, nan, nan, nan, nan, nan, nan, nan, nan, nan, nan, nan, nan, nan, nan, nan, nan, nan, nan, nan, nan, nan, nan, nan, nan, nan, nan, nan, nan, nan, nan, nan, nan, nan, nan, nan, nan, nan, nan, nan, nan, nan, nan, nan, nan, nan, nan, nan, nan, nan, nan, nan, nan, nan, nan, nan, nan, nan, nan, nan, nan, nan, nan, nan, nan, nan, nan, nan, nan, nan, nan, nan, nan, nan, nan, nan, nan, nan, nan, nan, nan, nan, nan, nan, nan, nan, nan, nan, nan, nan, nan, nan, nan, nan, nan, nan, nan, nan, nan, nan, nan, nan, nan, nan, nan, nan, nan, nan, nan, nan, nan, nan, nan, nan, nan, nan, nan, nan, nan, nan, nan, nan, nan, nan, nan, nan, nan, nan, nan, nan, nan, nan, nan, nan, nan, nan, nan, nan, nan, nan, nan, nan, nan, nan, nan, nan, nan, nan, nan, nan, nan, nan, nan, nan, nan, nan, nan, nan, nan, nan, nan, nan, nan, nan, nan, nan, nan, nan, nan, nan, nan, nan, nan, nan, nan, nan, nan, nan, nan, nan, nan, nan, nan, nan, nan, nan, nan, nan, nan, nan, nan, nan, nan, nan, nan, nan, nan, nan, nan, nan, nan, nan, nan, nan, nan, nan, nan, nan, nan, nan, nan, nan, nan, nan, nan, nan, nan, nan, nan, nan, nan, nan, nan, nan, nan, nan, nan, nan, nan, nan, nan, nan, nan, nan, nan, nan, nan, nan, nan, nan, nan, nan, nan, nan, nan, nan, nan, nan, nan, nan, nan, nan, nan, nan, nan, nan, nan, nan, nan, nan, nan, nan, nan, nan, nan, nan, nan, nan, nan, nan, nan, nan, nan, nan, nan, nan, nan, nan, nan, nan, nan, nan, nan, nan, nan, nan, nan, nan, nan, nan, nan, nan, nan, nan, nan, nan, nan, nan, nan, nan, nan, nan, nan, nan, nan, nan, nan, nan, nan, nan, nan, nan, nan, nan, nan, nan, nan, nan, nan, nan, nan, nan, nan, nan, nan, nan, nan, nan, nan, nan, nan, nan, nan, nan, nan, nan, nan, nan, nan, nan, nan, nan, nan, nan, nan, nan, nan, nan, nan, nan, nan, nan, nan, nan, nan, nan, nan, nan, nan, nan, nan, nan, nan, nan, nan, nan, nan, nan, nan, nan, nan, nan, nan, nan, nan, nan, nan, nan, nan, nan, nan, nan, nan, nan, nan, nan, nan, nan, nan, nan, nan, nan, nan, nan, nan, nan, nan, nan, nan, nan, nan, nan, nan, nan, nan, nan, nan, nan, nan, nan, nan, nan, nan, nan, nan, nan, nan, nan, nan, nan, nan, nan, nan, nan, nan, nan, nan, nan, nan, nan, nan, nan, nan, nan, nan, nan, nan, nan, nan, nan, nan, nan, nan, nan, nan, nan, nan, nan, nan, nan, nan, nan, nan, nan, nan, nan, nan, nan, nan, nan, nan, nan, nan, nan, nan, nan, nan, nan, nan, nan, nan, nan, nan, nan, nan, nan, nan, nan, nan, nan, nan, nan, nan, nan, nan, nan, nan, nan, nan, nan, nan, nan, nan, nan, nan, nan, nan, nan, nan, nan, nan, nan, nan, nan, nan, nan, nan, nan, nan, nan, nan, nan, nan, nan, nan, nan, nan, nan, nan, nan, nan, nan, nan, nan, nan, nan, nan, nan, nan, nan, nan, nan, nan, nan, nan, nan, nan, nan, nan, nan, nan, nan, nan, nan, nan, nan, nan, nan, nan, nan, nan, nan, nan, nan, nan, nan, nan, nan, nan, nan, nan, nan, nan, nan, nan, nan, nan, nan, nan, nan, nan, nan, nan, nan, nan, nan, nan, nan, nan, nan, nan, nan, nan, nan, nan, nan, nan, nan, nan, nan, nan, nan, nan, nan, nan, nan, nan, nan, nan, nan, nan, nan, nan, nan, nan, nan, nan, nan, nan, nan, nan, nan, nan, nan, nan, nan, nan, nan, nan, nan, nan, nan, nan, nan, nan, nan, nan, nan, nan, nan, nan, nan, nan, nan, nan, nan, nan, nan, nan, nan, nan, nan, nan, nan, nan, nan, nan, nan, nan, nan, nan, nan, nan, nan, nan, nan, nan, nan, nan, nan, nan, nan, nan, nan, nan, nan, nan, nan, nan, nan, nan, nan, nan, nan, nan, nan, nan, nan, nan, nan, nan, nan, nan, nan, nan, nan, nan, nan, nan, nan, nan, nan, nan, nan, nan, nan, nan, nan, nan, nan, nan, nan, nan, nan, nan, nan, nan, nan, nan, nan, nan, nan, nan, nan, nan, nan, nan, nan, nan, nan, nan, nan, nan, nan, nan, nan, nan, nan, nan, nan, nan, nan, nan, nan, nan, nan, nan, nan, nan, nan, nan, nan, nan, nan, nan, nan, nan, nan, nan, nan, nan, nan, nan, nan, nan, nan, nan, nan, nan, nan, nan, nan, nan, nan, nan, nan, nan, nan, nan, nan, nan, nan, nan, nan, nan, nan, nan, nan, nan, nan, nan, nan, nan, nan, nan, nan, nan, nan, nan, nan, nan, nan, nan, nan, nan, nan, nan, nan, nan, nan, nan, nan, nan, nan, nan, nan, nan, nan, nan, nan, nan, nan, nan, nan, nan, nan, nan, nan, nan, nan, nan, nan, nan, nan, nan, nan, nan, nan, nan, nan, nan, nan, nan, nan, nan, nan, nan, nan, nan, nan, nan, nan, nan, nan, nan, nan, nan, nan, nan, nan, nan, nan, nan, nan, nan, nan, nan, nan, nan, nan, nan, nan, nan, nan, nan, nan, nan, nan, nan, nan, nan, nan, nan, nan, nan, nan, nan, nan, nan, nan, nan, nan, nan, nan, nan, nan, nan, nan, nan, nan, nan, nan, nan, nan, nan, nan, nan, nan, nan, nan, nan, nan, nan, nan, nan, nan, nan, nan, nan, nan, nan, nan, nan, nan, nan, nan, nan, nan, nan, nan, nan, nan, nan, nan, nan, nan, nan, nan, nan, nan, nan, nan, nan, nan, nan, nan, nan, nan, nan, nan, nan, nan, nan, nan, nan, nan, nan, nan, nan, nan, nan, nan, nan, nan, nan, nan, nan, nan, nan, nan, nan, nan, nan, nan, nan, nan, nan, nan, nan, nan, nan, nan, nan, nan, nan, nan, nan, nan, nan, nan, nan, nan, nan, nan, nan, nan, nan, nan, nan, nan, nan, nan, nan, nan, nan, nan, nan, nan, nan, nan, nan, nan, nan, nan, nan, nan, nan, nan, nan, nan, nan, nan, nan, nan, nan, nan, nan, nan, nan, nan, nan, nan, nan, nan, nan, nan, nan, nan, nan, nan, nan, nan, nan, nan, nan, nan, nan, nan, nan, nan, nan, nan, nan, nan, nan, nan, nan, nan, nan, nan, nan, nan, nan, nan, nan, nan, nan, nan, nan, nan, nan, nan, nan, nan, nan, nan, nan, nan, nan, nan, nan, nan, nan, nan, nan, nan, nan, nan, nan, nan, nan, nan, nan, nan, nan, nan, nan, nan, nan, nan, nan, nan, nan, nan, nan, nan, nan, nan, nan, nan, nan, nan, nan, nan, nan, nan, nan, nan, nan, nan, nan, nan, nan, nan, nan, nan, nan, nan, nan, nan, nan, nan, nan, nan, nan, nan, nan, nan, nan, nan, nan, nan, nan, nan, nan, nan, nan, nan, nan, nan, nan, nan, nan, nan, nan, nan, nan, nan, nan, nan, nan, nan, nan, nan, nan, nan, nan, nan, nan, nan, nan, nan, nan, nan, nan, nan, nan, nan, nan, nan, nan, nan, nan, nan, nan, nan, nan, nan, nan, nan, nan, nan, nan, nan, nan, nan, nan, nan, nan, nan, nan, nan, nan, nan, nan, nan, nan, nan, nan, nan, nan, nan, nan, nan, nan, nan, nan, nan, nan, nan, nan, nan, nan, nan, nan, nan, nan, nan, nan, nan, nan, nan, nan, nan, nan, nan, nan, nan, nan, nan, nan, nan, nan, nan, nan, nan, nan, nan, nan, nan, nan, nan, nan, nan, nan, nan, nan, nan, nan, nan, nan, nan, nan, nan, nan, nan, nan, nan, nan, nan, nan, nan, nan, nan, nan, nan, nan, nan, nan, nan, nan, nan, nan, nan, nan, nan, nan, nan, nan, nan, nan, nan, nan, nan, nan, nan, nan, nan, nan, nan, nan, nan, nan, nan, nan, nan, nan, nan, nan, nan, nan, nan, nan, nan, nan, nan, nan, nan, nan, nan, nan, nan, nan, nan, nan, nan, nan, nan, nan, nan, nan, nan, nan, nan, nan, nan, nan, nan, nan, nan, nan, nan, nan, nan, nan, nan, nan, nan, nan, nan, nan, nan, nan, nan, nan, nan, nan, nan, nan, nan, nan, nan, nan, nan, nan, nan, nan, nan, nan, nan, nan, nan, nan, nan, nan, nan, nan, nan, nan, nan, nan, nan, nan, nan, nan, nan, nan, nan, nan, nan, nan, nan, nan, nan, nan, nan, nan, nan, nan, nan, nan, nan, nan, nan, nan, nan, nan, nan, nan, nan, nan, nan, nan, nan, nan, nan, nan, nan, nan, nan, nan, nan, nan, nan, nan, nan, nan, nan, nan, nan, nan, nan, nan, nan, nan, nan, nan, nan, nan, nan, nan, nan, nan, nan, nan, nan, nan, nan, nan, nan, nan, nan, nan, nan, nan, nan, nan, nan, nan, nan, nan, nan, nan, nan, nan, nan, nan, nan, nan, nan, nan, nan, nan, nan, nan, nan, nan, nan, nan, nan, nan, nan, nan, nan, nan, nan, nan, nan, nan, nan, nan, nan, nan, nan, nan, nan, nan, nan, nan, nan, nan, nan, nan, nan, nan, nan, nan, nan, nan, nan, nan, nan, nan, nan, nan, nan, nan, nan, nan, nan, nan, nan, nan, nan, nan, nan, nan, nan, nan, nan, nan, nan, nan, nan, nan, nan, nan, nan, nan, nan, nan, nan, nan, nan, nan, nan, nan, nan, nan, nan, nan, nan, nan, nan, nan, nan, nan, nan, nan, nan, nan, nan, nan, nan, nan, nan, nan, nan, nan, nan, nan, nan, nan, nan, nan, nan, nan, nan, nan, nan, nan, nan, nan, nan, nan, nan, nan, nan, nan, nan, nan, nan, nan, nan, nan, nan, nan, nan, nan, nan, nan, nan, nan, nan, nan, nan, nan, nan, nan, nan, nan, nan, nan, nan, nan, nan, nan, nan, nan, nan, nan, nan, nan, nan, nan, nan, nan, nan, nan, nan, nan, nan, nan, nan, nan, nan, nan, nan, nan, nan, nan, nan, nan, nan, nan, nan, nan, nan, nan, nan, nan, nan, nan, nan, nan, nan, nan, nan, nan, nan, nan, nan, nan, nan, nan, nan, nan, nan, nan, nan, nan, nan, nan, nan, nan, nan, nan, nan, nan, nan, nan, nan, nan, nan, nan, nan, nan, nan, nan, nan, nan, nan, nan, nan, nan, nan, nan, nan, nan, nan, nan, nan, nan, nan, nan, nan, nan, nan, nan, nan, nan, nan, nan, nan, nan, nan, nan, nan, nan, nan, nan, nan, nan, nan, nan, nan, nan, nan, nan, nan, nan, nan, nan, nan, nan, nan, nan, nan, nan, nan, nan, nan, nan, nan, nan, nan, nan, nan, nan, nan, nan, nan, nan, nan, nan, nan, nan, nan, nan, nan, nan, nan, nan, nan, nan, nan, nan, nan, nan, nan, nan, nan, nan, nan, nan, nan, nan, nan, nan, nan, nan, nan, nan, nan, nan, nan, nan, nan, nan, nan, nan, nan, nan, nan, nan, nan, nan, nan, nan, nan, nan, nan, nan, nan, nan, nan, nan, nan, nan, nan, nan, nan, nan, nan, nan, nan, nan, nan, nan, nan, nan, nan, nan, nan, nan, nan, nan, nan, nan, nan, nan, nan, nan, nan, nan, nan, nan, nan, nan, nan, nan, nan, nan, nan, nan, nan, nan, nan, nan, nan, nan, nan, nan, nan, nan, nan, nan, nan, nan, nan, nan, nan, nan, nan, nan, nan, nan, nan, nan, nan, nan, nan, nan, nan, nan, nan, nan, nan, nan, nan, nan, nan, nan, nan, nan, nan, nan, nan, nan, nan, nan, nan, nan, nan, nan, nan, nan, nan, nan, nan, nan, nan, nan, nan, nan, nan, nan, nan, nan, nan, nan, nan, nan, nan, nan, nan, nan, nan, nan, nan, nan, nan, nan, nan, nan, nan, nan, nan, nan, nan, nan, nan, nan, nan, nan, nan, nan, nan, nan, nan, nan, nan, nan, nan, nan, nan, nan, nan, nan, nan, nan, nan, nan, nan, nan, nan, nan, nan, nan, nan, nan, nan, nan, nan, nan, nan, nan, nan, nan, nan, nan, nan, nan, nan, nan, nan, nan, nan, nan, nan, nan, nan, nan, nan, nan, nan, nan, nan, nan, nan, nan, nan, nan, nan, nan, nan, nan, nan, nan, nan, nan, nan, nan, nan, nan, nan, nan, nan, nan, nan, nan, nan, nan, nan, nan, nan, nan, nan, nan, nan, nan, nan, nan, nan, nan, nan, nan, nan, nan, nan, nan, nan, nan, nan, nan, nan, nan, nan, nan, nan, nan, nan, nan, nan, nan, nan, nan, nan, nan, nan, nan, nan, nan, nan, nan, nan, nan, nan, nan, nan, nan, nan, nan, nan, nan, nan, nan, nan, nan, nan, nan, nan, nan, nan, nan, nan, nan, nan, nan, nan, nan, nan, nan, nan, nan, nan, nan, nan, nan, nan, nan, nan, nan, nan, nan, nan, nan, nan, nan, nan, nan, nan, nan, nan, nan, nan, nan, nan, nan, nan, nan, nan, nan, nan, nan, nan, nan, nan, nan, nan, nan, nan, nan, nan, nan, nan, nan, nan, nan, nan, nan, nan, nan, nan, nan, nan, nan, nan, nan, nan, nan, nan, nan, nan, nan, nan, nan, nan, nan, nan, nan, nan, nan, nan, nan, nan, nan, nan, nan, nan, nan, nan, nan, nan, nan, nan, nan, nan, nan, nan, nan, nan, nan, nan, nan, nan, nan, nan, nan, nan, nan, nan, nan, nan, nan, nan, nan, nan, nan, nan, nan, nan, nan, nan, nan, nan, nan, nan, nan, nan, nan, nan, nan, nan, nan, nan, nan, nan, nan, nan, nan, nan, nan, nan, nan, nan, nan, nan, nan, nan, nan, nan, nan, nan, nan, nan, nan, nan, nan, nan, nan, nan, nan, nan, nan, nan, nan, nan, nan, nan, nan, nan, nan, nan, nan, nan, nan, nan, nan, nan, nan, nan, nan, nan, nan, nan, nan, nan, nan, nan, nan, nan, nan, nan, nan, nan, nan, nan, nan, nan, nan, nan, nan, nan, nan, nan, nan, nan, nan, nan, nan, nan, nan, nan, nan, nan, nan, nan, nan, nan, nan, nan, nan, nan, nan, nan, nan, nan, nan, nan, nan, nan, nan, nan, nan, nan, nan, nan, nan, nan, nan, nan, nan, nan, nan, nan, nan, nan, nan, nan, nan, nan, nan, nan, nan, nan, nan, nan, nan, nan, nan, nan, nan, nan, nan, nan, nan, nan, nan, nan, nan, nan, nan, nan, nan, nan, nan, nan, nan, nan, nan, nan, nan, nan, nan, nan, nan, nan, nan, nan, nan, nan, nan, nan, nan, nan, nan, nan, nan, nan, nan, nan, nan, nan, nan, nan, nan, nan, nan, nan, nan, nan, nan, nan, nan, nan, nan, nan, nan, nan, nan, nan, nan, nan, nan, nan, nan, nan, nan, nan, nan, nan, nan, nan, nan, nan, nan, nan, nan, nan, nan, nan, nan, nan, nan, nan, nan, nan, nan, nan, nan, nan, nan, nan, nan, nan, nan, nan, nan, nan, nan, nan, nan, nan, nan, nan, nan, nan, nan, nan, nan, nan, nan, nan, nan, nan, nan, nan, nan, nan, nan, nan, nan, nan, nan, nan, nan, nan, nan, nan, nan, nan, nan, nan, nan, nan, nan, nan, nan, nan, nan, nan, nan, nan, nan, nan, nan, nan, nan, nan, nan, nan, nan, nan, nan, nan, nan, nan, nan, nan, nan, nan, nan, nan, nan, nan, nan, nan, nan, nan, nan, nan, nan, nan, nan, nan, nan, nan, nan, nan, nan, nan, nan, nan, nan, nan, nan, nan, nan, nan, nan, nan, nan, nan, nan, nan, nan, nan, nan, nan, nan, nan, nan, nan, nan, nan, nan, nan, nan, nan, nan, nan, nan, nan, nan, nan, nan, nan, nan, nan, nan, nan, nan, nan, nan, nan, nan, nan, nan, nan, nan, nan, nan, nan, nan, nan, nan, nan, nan, nan, nan, nan, nan, nan, nan, nan, nan, nan, nan, nan, nan, nan, nan, nan, nan, nan, nan, nan, nan, nan, nan, nan, nan, nan, nan, nan, nan, nan, nan, nan, nan, nan, nan, nan, nan, nan, nan, nan, nan, nan, nan, nan, nan, nan, nan, nan, nan, nan, nan, nan, nan, nan, nan, nan, nan, nan, nan, nan, nan, nan, nan, nan, nan, nan, nan, nan, nan, nan, nan, nan, nan, nan, nan, nan, nan, nan, nan, nan, nan, nan, nan, nan, nan, nan, nan, nan, nan, nan, nan, nan, nan, nan, nan, nan, nan, nan, nan, nan, nan, nan, nan, nan, nan, nan, nan, nan, nan, nan, nan, nan, nan, nan, nan, nan, nan, nan, nan, nan, nan, nan, nan, nan, nan, nan, nan, nan, nan, nan, nan, nan, nan, nan, nan, nan, nan, nan, nan, nan, nan, nan, nan, nan, nan, nan, nan, nan, nan, nan, nan, nan, nan, nan, nan, nan, nan, nan, nan, nan, nan, nan, nan, nan, nan, nan, nan, nan, nan, nan, nan, nan, nan, nan, nan, nan, nan, nan, nan, nan, nan, nan, nan, nan, nan, nan, nan, nan, nan, nan, nan, nan, nan, nan, nan, nan, nan, nan, nan, nan, nan, nan, nan, nan, nan, nan, nan, nan, nan, nan, nan, nan, nan, nan, nan, nan, nan, nan, nan, nan, nan, nan, nan, nan, nan, nan, nan, nan, nan, nan, nan, nan, nan, nan, nan, nan, nan, nan, nan, nan, nan, nan, nan, nan, nan, nan, nan, nan, nan, nan, nan, nan, nan, nan, nan, nan, nan, nan, nan, nan, nan, nan, nan, nan, nan, nan, nan, nan, nan, nan, nan, nan, nan, nan, nan, nan, nan, nan, nan, nan, nan, nan, nan, nan, nan, nan, nan, nan, nan, nan, nan, nan, nan, nan, nan, nan, nan, nan, nan, nan, nan, nan, nan, nan, nan, nan, nan, nan, nan, nan, nan, nan, nan, nan, nan, nan, nan, nan, nan, nan, nan, nan, nan, nan, nan, nan, nan, nan, nan, nan, nan, nan, nan, nan, nan, nan, nan, nan, nan, nan, nan, nan, nan, nan, nan, nan, nan, nan, nan, nan, nan, nan, nan, nan, nan, nan, nan, nan, nan, nan, nan, nan, nan, nan, nan, nan, nan, nan, nan, nan, nan, nan, nan, nan, nan, nan, nan, nan, nan, nan, nan, nan, nan, nan, nan, nan, nan, nan, nan, nan, nan, nan, nan, nan, nan, nan, nan, nan, nan, nan, nan, nan, nan, nan, nan, nan, nan, nan, nan, nan, nan, nan, nan, nan, nan, nan, nan, nan, nan, nan, nan, nan, nan, nan, nan, nan, nan, nan, nan, nan, nan, nan, nan, nan, nan, nan, nan, nan, nan, nan, nan, nan, nan, nan, nan, nan, nan, nan, nan, nan, nan, nan, nan, nan, nan, nan, nan, nan, nan, nan, nan, nan, nan, nan, nan, nan, nan, nan, nan, nan, nan, nan, nan, nan, nan, nan, nan, nan, nan, nan, nan, nan, nan, nan, nan, nan, nan, nan, nan, nan, nan, nan, nan, nan, nan, nan, nan, nan, nan, nan, nan, nan, nan, nan, nan, nan, nan, nan, nan, nan, nan, nan, nan, nan, nan, nan, nan, nan, nan, nan, nan, nan, nan, nan, nan, nan, nan, nan, nan, nan, nan, nan, nan, nan, nan, nan, nan, nan, nan, nan, nan, nan, nan, nan, nan, nan, nan, nan, nan, nan, nan, nan, nan, nan, nan, nan, nan, nan, nan, nan, nan, nan, nan, nan, nan, nan, nan, nan, nan, nan, nan, nan, nan, nan, nan, nan, nan, nan, nan, nan, nan, nan, nan, nan, nan, nan, nan, nan, nan, nan, nan, nan, nan, nan, nan, nan, nan, nan, nan, nan, nan, nan, nan, nan, nan, nan, nan, nan, nan, nan, nan, nan, nan, nan, nan, nan, nan, nan, nan, nan, nan, nan, nan, nan, nan, nan, nan, nan, nan, nan, nan, nan, nan, nan, nan, nan, nan, nan, nan, nan, nan, nan, nan, nan, nan, nan, nan, nan, nan, nan, nan, nan, nan, nan, nan, nan, nan, nan, nan, nan, nan, nan, nan, nan, nan, nan, nan, nan, nan, nan, nan, nan, nan, nan, nan, nan, nan, nan, nan, nan, nan, nan, nan, nan, nan, nan, nan, nan, nan, nan, nan, nan, nan, nan, nan, nan, nan, nan, nan, nan, nan, nan, nan, nan, nan, nan, nan, nan, nan, nan, nan, nan, nan, nan, nan, nan, nan, nan, nan, nan, nan, nan, nan, nan, nan, nan, nan, nan, nan, nan, nan, nan, nan, nan, nan, nan, nan, nan, nan, nan, nan, nan, nan, nan, nan, nan, nan, nan, nan, nan, nan, nan, nan, nan, nan, nan, nan, nan, nan, nan, nan, nan, nan, nan, nan, nan, nan, nan, nan, nan, nan, nan, nan, nan, nan, nan, nan, nan, nan, nan, nan, nan, nan, nan, nan, nan, nan, nan, nan, nan, nan, nan, nan, nan, nan, nan, nan, nan, nan, nan, nan, nan, nan, nan, nan, nan, nan, nan, nan, nan, nan, nan, nan, nan, nan, nan, nan, nan, nan, nan, nan, nan, nan, nan, nan, nan, nan, nan, nan, nan, nan, nan, nan, nan, nan, nan, nan, nan, nan, nan, nan, nan, nan, nan, nan, nan, nan, nan, nan, nan, nan, nan, nan, nan, nan, nan, nan, nan, nan, nan, nan, nan, nan, nan, nan, nan, nan, nan, nan, nan, nan, nan, nan, nan, nan, nan, nan, nan, nan, nan, nan, nan, nan, nan, nan, nan, nan, nan, nan, nan, nan, nan, nan, nan, nan, nan, nan, nan, nan, nan, nan, nan, nan, nan, nan, nan, nan, nan, nan, nan, nan, nan, nan, nan, nan, nan, nan, nan, nan, nan, nan, nan, nan, nan, nan, nan, nan, nan, nan, nan, nan, nan, nan, nan, nan, nan, nan, nan, nan, nan, nan, nan, nan, nan, nan, nan, nan, nan, nan, nan, nan, nan, nan, nan, nan, nan, nan, nan, nan, nan, nan, nan, nan, nan, nan, nan, nan, nan, nan, nan, nan, nan, nan, nan, nan, nan, nan, nan, nan, nan, nan, nan, nan, nan, nan, nan, nan, nan, nan, nan, nan, nan, nan, nan, nan, nan, nan, nan, nan, nan, nan, nan, nan, nan, nan, nan, nan, nan, nan, nan, nan, nan, nan, nan, nan, nan, nan, nan, nan, nan, nan, nan, nan, nan, nan, nan, nan, nan, nan, nan, nan, nan, nan, nan, nan, nan, nan, nan, nan, nan, nan, nan, nan, nan, nan, nan, nan, nan, nan, nan, nan, nan, nan, nan, nan, nan, nan, nan, nan, nan, nan, nan, nan, nan, nan, nan, nan, nan, nan, nan, nan, nan, nan, nan, nan, nan, nan, nan, nan, nan, nan, nan, nan, nan, nan, nan, nan, nan, nan, nan, nan, nan, nan, nan, nan, nan, nan, nan, nan, nan, nan, nan, nan, nan, nan, nan, nan, nan, nan, nan, nan, nan, nan, nan, nan, nan, nan, nan, nan, nan, nan, nan, nan, nan, nan, nan, nan, nan, nan, nan, nan, nan, nan, nan, nan, nan, nan, nan, nan, nan, nan, nan, nan, nan, nan, nan, nan, nan, nan, nan, nan, nan, nan, nan, nan, nan, nan, nan, nan, nan, nan, nan, nan, nan, nan, nan, nan, nan, nan, nan, nan, nan, nan, nan, nan, nan, nan, nan, nan, nan, nan, nan, nan, nan, nan, nan, nan, nan, nan, nan, nan, nan, nan, nan, nan, nan, nan, nan, nan, nan, nan, nan, nan, nan, nan, nan, nan, nan, nan, nan, nan, nan, nan, nan, nan, nan, nan, nan, nan, nan, nan, nan, nan, nan, nan, nan, nan, nan, nan, nan, nan, nan, nan, nan, nan, nan, nan, nan, nan, nan, nan, nan, nan, nan, nan, nan, nan, nan, nan, nan, nan, nan, nan, nan, nan, nan, nan, nan, nan, nan, nan, nan, nan, nan, nan, nan, nan, nan, nan, nan, nan, nan, nan, nan, nan, nan, nan, nan, nan, nan, nan, nan, nan, nan, nan, nan, nan, nan, nan, nan, nan, nan, nan, nan, nan, nan, nan, nan, nan, nan, nan, nan, nan, nan, nan, nan, nan, nan, nan, nan, nan, nan, nan, nan, nan, nan, nan, nan, nan, nan, nan, nan, nan, nan, nan, nan, nan, nan, nan, nan, nan, nan, nan, nan, nan, nan, nan, nan, nan, nan, nan, nan, nan, nan, nan, nan, nan, nan, nan, nan, nan, nan, nan, nan, nan, nan, nan, nan, nan, nan, nan, nan, nan, nan, nan, nan, nan, nan, nan, nan, nan, nan, nan, nan, nan, nan, nan, nan, nan, nan, nan, nan, nan, nan, nan, nan, nan, nan, nan, nan, nan, nan, nan, nan, nan, nan, nan, nan, nan, nan, nan, nan, nan, nan, nan, nan, nan, nan, nan, nan, nan, nan, nan, nan, nan, nan, nan, nan, nan, nan, nan, nan, nan, nan, nan, nan, nan, nan, nan, nan, nan, nan, nan, nan, nan, nan, nan, nan, nan, nan, nan, nan, nan, nan, nan, nan, nan, nan, nan, nan, nan, nan, nan, nan, nan, nan, nan, nan, nan, nan, nan, nan, nan, nan, nan, nan, nan, nan, nan, nan, nan, nan, nan, nan, nan, nan, nan, nan, nan, nan, nan, nan, nan, nan, nan, nan, nan, nan, nan, nan, nan, nan, nan, nan, nan, nan, nan, nan, nan, nan, nan, nan, nan, nan, nan, nan, nan, nan, nan, nan, nan, nan, nan, nan, nan, nan, nan, nan, nan, nan, nan, nan, nan, nan, nan, nan, nan, nan, nan, nan, nan, nan, nan, nan, nan, nan, nan, nan, nan, nan, nan, nan, nan, nan, nan, nan, nan, nan, nan, nan, nan, nan, nan, nan, nan, nan, nan, nan, nan, nan, nan, nan, nan, nan, nan, nan, nan, nan, nan, nan, nan, nan, nan, nan, nan, nan, nan, nan, nan, nan, nan, nan, nan, nan, nan, nan, nan, nan, nan, nan, nan, nan, nan, nan, nan, nan, nan, nan, nan, nan, nan, nan, nan, nan, nan, nan, nan, nan, nan, nan, nan, nan, nan, nan, nan, nan, nan, nan, nan, nan, nan, nan, nan, nan, nan, nan, nan, nan, nan, nan, nan, nan, nan, nan, nan, nan, nan, nan, nan, nan, nan, nan, nan, nan, nan, nan, nan, nan, nan, nan, nan, nan, nan, nan, nan, nan, nan, nan, nan, nan, nan, nan, nan, nan, nan, nan, nan, nan, nan, nan, nan, nan, nan, nan, nan, nan, nan, nan, nan, nan, nan, nan, nan, nan, nan, nan, nan, nan, nan, nan, nan, nan, nan, nan, nan, nan, nan, nan, nan, nan, nan, nan, nan, nan, nan, nan, nan, nan, nan, nan, nan, nan, nan, nan, nan, nan, nan, nan, nan, nan, nan, nan, nan, nan, nan, nan, nan, nan, nan, nan, nan, nan, nan, nan, nan, nan, nan, nan, nan, nan, nan, nan, nan, nan, nan, nan, nan, nan, nan, nan, nan, nan, nan, nan, nan, nan, nan, nan, nan, nan, nan, nan, nan, nan, nan, nan, nan, nan, nan, nan, nan, nan, nan, nan, nan, nan, nan, nan, nan, nan, nan, nan, nan, nan, nan, nan, nan, nan, nan, nan, nan, nan, nan, nan, nan, nan, nan, nan, nan, nan, nan, nan, nan, nan, nan, nan, nan, nan, nan, nan, nan, nan, nan, nan, nan, nan, nan, nan, nan, nan, nan, nan, nan, nan, nan, nan, nan, nan, nan, nan, nan, nan, nan, nan, nan, nan, nan, nan, nan, nan, nan, nan, nan, nan, nan, nan, nan, nan, nan, nan, nan, nan, nan, nan, nan, nan, nan, nan, nan, nan, nan, nan, nan, nan, nan, nan, nan, nan, nan, nan, nan, nan, nan, nan, nan, nan, nan, nan, nan, nan, nan, nan, nan, nan, nan, nan, nan, nan, nan, nan, nan, nan, nan, nan, nan, nan, nan, nan, nan, nan, nan, nan, nan, nan, nan, nan, nan, nan, nan, nan, nan, nan, nan, nan, nan, nan, nan, nan, nan, nan, nan, nan, nan, nan, nan, nan, nan, nan, nan, nan, nan, nan, nan, nan, nan, nan, nan, nan, nan, nan, nan, nan, nan, nan, nan, nan, nan, nan, nan, nan, nan, nan, nan, nan, nan, nan, nan, nan, nan, nan, nan, nan, nan, nan, nan, nan, nan, nan, nan, nan, nan, nan, nan, nan, nan, nan, nan, nan, nan, nan, nan, nan, nan, nan, nan, nan, nan, nan, nan, nan, nan, nan, nan, nan, nan, nan, nan, nan, nan, nan, nan, nan, nan, nan, nan, nan, nan, nan, nan, nan, nan, nan, nan, nan, nan, nan, nan, nan, nan, nan, nan, nan, nan, nan, nan, nan, nan, nan, nan, nan, nan, nan, nan, nan, nan, nan, nan, nan, nan, nan, nan, nan, nan, nan, nan, nan, nan, nan, nan, nan, nan, nan, nan, nan, nan, nan, nan, nan, nan, nan, nan, nan, nan, nan, nan, nan, nan, nan, nan, nan, nan, nan, nan, nan, nan, nan, nan, nan, nan, nan, nan, nan, nan, nan, nan, nan, nan, nan, nan, nan, nan, nan, nan, nan, nan, nan, nan, nan, nan, nan, nan, nan, nan, nan, nan, nan, nan, nan, nan, nan, nan, nan, nan, nan, nan, nan, nan, nan, nan, nan, nan, nan, nan, nan, nan, nan, nan, nan, nan, nan, nan, nan, nan, nan, nan, nan, nan, nan, nan, nan, nan, nan, nan, nan, nan, nan, nan, nan, nan, nan, nan, nan, nan, nan, nan, nan, nan, nan, nan, nan, nan, nan, nan, nan, nan, nan, nan, nan, nan, nan, nan, nan, nan, nan, nan, nan, nan, nan, nan, nan, nan, nan, nan, nan, nan, nan, nan, nan, nan, nan, nan, nan, nan, nan, nan, nan, nan, nan, nan, nan, nan, nan, nan, nan, nan, nan, nan, nan, nan, nan, nan, nan, nan, nan, nan, nan, nan, nan, nan, nan, nan, nan, nan, nan, nan, nan, nan, nan, nan, nan, nan, nan, nan, nan, nan, nan, nan, nan, nan, nan, nan, nan, nan, nan, nan, nan, nan, nan, nan, nan, nan, nan, nan, nan, nan, nan, nan, nan, nan, nan, nan, nan, nan, nan, nan, nan, nan, nan, nan, nan, nan, nan, nan, nan, nan, nan, nan, nan, nan, nan, nan, nan, nan, nan, nan, nan, nan, nan, nan, nan, nan, nan, nan, nan, nan, nan, nan, nan, nan, nan, nan, nan, nan, nan, nan, nan, nan, nan, nan, nan, nan, nan, nan, nan, nan, nan, nan, nan, nan, nan, nan, nan, nan, nan, nan, nan, nan, nan, nan, nan, nan, nan, nan, nan, nan, nan, nan, nan, nan, nan, nan, nan, nan, nan, nan, nan, nan, nan, nan, nan, nan, nan, nan, nan, nan, nan, nan, nan, nan, nan, nan, nan, nan, nan, nan, nan, nan, nan, nan, nan, nan, nan, nan, nan, nan, nan, nan, nan, nan, nan, nan, nan, nan, nan, nan, nan, nan, nan, nan, nan, nan, nan, nan, nan, nan, nan, nan, nan, nan, nan, nan, nan, nan, nan, nan, nan, nan, nan, nan, nan, nan, nan, nan, nan, nan, nan, nan, nan, nan, nan, nan, nan, nan, nan, nan, nan, nan, nan, nan, nan, nan, nan, nan, nan, nan, nan, nan, nan, nan, nan, nan, nan, nan, nan, nan, nan, nan, nan, nan, nan, nan, nan, nan, nan, nan, nan, nan, nan, nan, nan, nan, nan, nan, nan, nan, nan, nan, nan, nan, nan, nan, nan, nan, nan, nan, nan, nan, nan, nan, nan, nan, nan, nan, nan, nan, nan, nan, nan, nan, nan, nan, nan, nan, nan, nan, nan, nan, nan, nan, nan, nan, nan, nan, nan, nan, nan, nan, nan, nan, nan, nan, nan, nan, nan, nan, nan, nan, nan, nan, nan, nan, nan, nan, nan, nan, nan, nan, nan, nan, nan, nan, nan, nan, nan, nan, nan, nan, nan, nan, nan, nan, nan, nan, nan, nan, nan, nan, nan, nan, nan, nan, nan, nan, nan, nan, nan, nan, nan, nan, nan, nan, nan, nan, nan, nan, nan, nan, nan, nan, nan, nan, nan, nan, nan, nan, nan, nan, nan, nan, nan, nan, nan, nan, nan, nan, nan, nan, nan, nan, nan, nan, nan, nan, nan, nan, nan, nan, nan, nan, nan, nan, nan, nan, nan, nan, nan, nan, nan, nan, nan, nan, nan, nan, nan, nan, nan, nan, nan, nan, nan, nan, nan, nan, nan, nan, nan, nan, nan, nan, nan, nan, nan, nan, nan, nan, nan, nan, nan, nan, nan, nan, nan, nan, nan, nan, nan, nan, nan, nan, nan, nan, nan, nan, nan, nan, nan, nan, nan, nan, nan, nan, nan, nan, nan, nan, nan, nan, nan, nan, nan, nan, nan, nan, nan, nan, nan, nan, nan, nan, nan, nan, nan, nan, nan, nan, nan, nan, nan, nan, nan, nan, nan, nan, nan, nan, nan, nan, nan, nan, nan, nan, nan, nan, nan, nan, nan, nan, nan, nan, nan, nan, nan, nan, nan, nan, nan, nan, nan, nan, nan, nan, nan, nan, nan, nan, nan, nan, nan, nan, nan, nan, nan, nan, nan, nan, nan, nan, nan, nan, nan, nan, nan, nan, nan, nan, nan, nan, nan, nan, nan, nan, nan, nan, nan, nan, nan, nan, nan, nan, nan, nan, nan, nan, nan, nan, nan, nan, nan, nan, nan, nan, nan, nan, nan, nan, nan, nan, nan, nan, nan, nan, nan, nan, nan, nan, nan, nan, nan, nan, nan, nan, nan, nan, nan, nan, nan, nan, nan, nan, nan, nan, nan, nan, nan, nan, nan, nan, nan, nan, nan, nan, nan, nan, nan, nan, nan, nan, nan, nan, nan, nan, nan, nan, nan, nan, nan, nan, nan, nan, nan, nan, nan, nan, nan, nan, nan, nan, nan, nan, nan, nan, nan, nan, nan, nan, nan, nan, nan, nan, nan, nan, nan, nan, nan, nan, nan, nan, nan, nan, nan, nan, nan, nan, nan, nan, nan, nan, nan, nan, nan, nan, nan, nan, nan, nan, nan, nan, nan, nan, nan, nan, nan, nan, nan, nan, nan, nan, nan, nan, nan, nan, nan, nan, nan, nan, nan, nan, nan, nan, nan, nan, nan, nan, nan, nan, nan, nan, nan, nan, nan, nan, nan, nan, nan, nan, nan, nan, nan, nan, nan, nan, nan, nan, nan, nan, nan, nan, nan, nan, nan, nan, nan, nan, nan, nan, nan, nan, nan, nan, nan, nan, nan, nan, nan, nan, nan, nan, nan, nan, nan, nan, nan, nan, nan, nan, nan, nan, nan, nan, nan, nan, nan, nan, nan, nan, nan, nan, nan, nan, nan, nan, nan, nan, nan, nan, nan, nan, nan, nan, nan, nan, nan, nan, nan, nan, nan, nan, nan, nan, nan, nan, nan, nan, nan, nan, nan, nan, nan, nan, nan, nan, nan, nan, nan, nan, nan, nan, nan, nan, nan, nan, nan, nan, nan, nan, nan, nan, nan, nan, nan, nan, nan, nan, nan, nan, nan, nan, nan, nan, nan, nan, nan, nan, nan, nan, nan, nan, nan, nan, nan, nan, nan, nan, nan, nan, nan, nan, nan, nan, nan, nan, nan, nan, nan, nan, nan, nan, nan, nan, nan, nan, nan, nan, nan, nan, nan, nan, nan, nan, nan, nan, nan, nan, nan, nan, nan, nan, nan, nan, nan, nan, nan, nan, nan, nan, nan, nan, nan, nan, nan, nan, nan, nan, nan, nan, nan, nan, nan, nan, nan, nan, nan, nan, nan, nan, nan, nan, nan, nan, nan, nan, nan, nan, nan, nan, nan, nan, nan, nan, nan, nan, nan, nan, nan, nan, nan, nan, nan, nan, nan, nan, nan] will be ignored\n",
      "  warnings.warn(\n",
      "/project/hnguyen/hqvo2/miniconda3/envs/multimedal/lib/python3.8/site-packages/sklearn/preprocessing/_discretization.py:248: FutureWarning: In version 1.5 onwards, subsample=200_000 will be used by default. Set subsample explicitly to silence this warning in the mean time. Set subsample=None to disable subsampling explicitly.\n",
      "  warnings.warn(\n"
     ]
    },
    {
     "name": "stdout",
     "output_type": "stream",
     "text": [
      "# Samples: (8485, 87)\n",
      "# Lesions ID: (8485, 2)\n",
      "#Samples 1650\n"
     ]
    }
   ],
   "source": [
    "\n",
    "test_dataset = EMBED_dataset_tfds(\n",
    "    data_root=\"/home/hqvo2/Projects/MultiMEDal_multimodal_medical/data/EMBED/original\",\n",
    "    dataset_dir=\"images_unique_mapping_tfds\",\n",
    "    incl_bg=False,\n",
    "    split=\"test\",\n",
    "    class_type=\"2classes\",\n",
    "    incl_tabular=True,\n",
    "    transform=transform_dict['test'],\n",
    ")"
   ]
  },
  {
   "cell_type": "code",
   "execution_count": 4,
   "metadata": {},
   "outputs": [],
   "source": [
    "test_dataloader = DataLoader(\n",
    "    test_dataset,\n",
    "    shuffle=None,\n",
    "    batch_size=64,\n",
    "    num_workers=4,\n",
    "    sampler=None,\n",
    "    persistent_workers=True,\n",
    ")"
   ]
  },
  {
   "cell_type": "code",
   "execution_count": 9,
   "metadata": {},
   "outputs": [],
   "source": [
    "from MultiMEDal_multimodal_medical.src.datasets.data_transform import (\n",
    "    build_transform_dict,\n",
    "    build_transform_dict_mamm,\n",
    "    build_transform_dict_blip2,\n",
    "    build_transform_dict_openclip,\n",
    "    build_transform_dict_pubmedclip\n",
    ")\n",
    "transform_dict, txt_processors = build_transform_dict_pubmedclip()"
   ]
  },
  {
   "cell_type": "code",
   "execution_count": 16,
   "metadata": {},
   "outputs": [
    {
     "name": "stdout",
     "output_type": "stream",
     "text": [
      "A patient, whose marital status is married, whose ethnicity is african american  or black, whose ethnic group is unreported, unknown, unavailable, whose age is 42. There are asymmetry findings in left breast. Left breast density is heterogeneously dense. There are masses, with focal asymmetry shape. \n",
      "A patient, whose marital status is married, whose ethnicity is african american  or black, whose ethnic group is unreported, unknown, unavailable, whose age is 42. There are asymmetry findings in left breast. Left breast density is heterogeneously dense. There are masses, with focal asymmetry shape. \n",
      "A patient, whose marital status is married, whose ethnicity is african american  or black, whose ethnic group is unreported, unknown, unavailable, whose age is 42. There are asymmetry findings in left breast. Left breast density is heterogeneously dense. There are masses, with focal asymmetry shape. \n",
      "A patient, whose marital status is married, whose ethnicity is african american  or black, whose ethnic group is unreported, unknown, unavailable, whose age is 42. There are asymmetry findings in left breast. Left breast density is heterogeneously dense. There are masses, with focal asymmetry shape. \n",
      "A patient, whose marital status is married, whose ethnicity is african american  or black, whose ethnic group is unreported, unknown, unavailable, whose age is 42. There are asymmetry findings in left breast. Left breast density is heterogeneously dense. There are masses, with focal asymmetry shape. \n",
      "A patient, whose marital status is married, whose ethnicity is african american  or black, whose ethnic group is unreported, unknown, unavailable, whose age is 42. There are asymmetry findings in left breast. Left breast density is heterogeneously dense. There are masses, with focal asymmetry shape. \n",
      "A patient, whose marital status is married, whose ethnicity is african american  or black, whose ethnic group is unreported, unknown, unavailable, whose age is 42. There are asymmetry findings in left breast. Left breast density is heterogeneously dense. There are masses, with focal asymmetry shape. \n",
      "A patient, whose marital status is married, whose ethnicity is african american  or black, whose ethnic group is unreported, unknown, unavailable, whose age is 42. There are asymmetry findings in left breast. Left breast density is heterogeneously dense. There are masses, with focal asymmetry shape. \n",
      "A patient, whose marital status is married, whose ethnicity is african american  or black, whose ethnic group is unreported, unknown, unavailable, whose age is 42. There are asymmetry findings in left breast. Left breast density is heterogeneously dense. There are masses, with focal asymmetry shape. \n",
      "A patient, whose marital status is married, whose ethnicity is african american  or black, whose ethnic group is unreported, unknown, unavailable, whose age is 42. There are asymmetry findings in left breast. Left breast density is heterogeneously dense. There are masses, with focal asymmetry shape. \n",
      "A patient, whose marital status is married, whose ethnicity is african american  or black, whose ethnic group is unreported, unknown, unavailable, whose age is 42. There are asymmetry findings in left breast. Left breast density is heterogeneously dense. There are masses, with focal asymmetry shape. \n",
      "A patient, whose marital status is married, whose ethnicity is african american  or black, whose ethnic group is unreported, unknown, unavailable, whose age is 42. There are asymmetry findings in left breast. Left breast density is heterogeneously dense. There are masses, with focal asymmetry shape. \n",
      "A patient, whose marital status is married, whose ethnicity is african american  or black, whose ethnic group is unreported, unknown, unavailable, whose age is 42. There are asymmetry findings in left breast. Left breast density is heterogeneously dense. There are masses, with focal asymmetry shape. \n",
      "A patient, whose marital status is married, whose ethnicity is african american  or black, whose ethnic group is unreported, unknown, unavailable, whose age is 42. There are asymmetry findings in left breast. Left breast density is heterogeneously dense. There are masses, with focal asymmetry shape. \n",
      "A patient, whose marital status is married, whose ethnicity is african american  or black, whose ethnic group is unreported, unknown, unavailable, whose age is 42. There are asymmetry findings in left breast. Left breast density is heterogeneously dense. There are masses, with focal asymmetry shape. \n",
      "A patient, whose marital status is married, whose ethnicity is african american  or black, whose ethnic group is unreported, unknown, unavailable, whose age is 42. There are asymmetry findings in left breast. Left breast density is heterogeneously dense. There are masses, with focal asymmetry shape. \n",
      "A patient, whose marital status is married, whose ethnicity is african american  or black, whose ethnic group is unreported, unknown, unavailable, whose age is 42. There are asymmetry findings in left breast. Left breast density is heterogeneously dense. There are masses, with focal asymmetry shape. \n",
      "A patient, whose marital status is married, whose ethnicity is african american  or black, whose ethnic group is unreported, unknown, unavailable, whose age is 42. There are asymmetry findings in left breast. Left breast density is heterogeneously dense. There are masses, with focal asymmetry shape. \n",
      "A patient, whose marital status is married, whose ethnicity is african american  or black, whose ethnic group is unreported, unknown, unavailable, whose age is 42. There are asymmetry findings in left breast. Left breast density is heterogeneously dense. There are masses, with focal asymmetry shape. \n",
      "A patient, whose marital status is married, whose ethnicity is african american  or black, whose ethnic group is unreported, unknown, unavailable, whose age is 42. There are asymmetry findings in left breast. Left breast density is heterogeneously dense. There are masses, with focal asymmetry shape. \n",
      "A patient, whose marital status is married, whose ethnicity is caucasian or white, whose ethnic group is non-hispanic or latino, whose age is 54. There are asymmetry findings in left breast. Left breast density is extremely dense. There are masses, with asymmetry shape. \n",
      "A patient, whose marital status is married, whose ethnicity is caucasian or white, whose ethnic group is non-hispanic or latino, whose age is 54. There are asymmetry findings in left breast. Left breast density is extremely dense. There are masses, with asymmetry shape. \n",
      "A patient, whose marital status is married, whose ethnicity is caucasian or white, whose ethnic group is non-hispanic or latino, whose age is 54. There are asymmetry findings in left breast. Left breast density is extremely dense. There are masses, with asymmetry shape. \n",
      "A patient, whose marital status is married, whose ethnicity is caucasian or white, whose ethnic group is non-hispanic or latino, whose age is 54. There are asymmetry findings in left breast. Left breast density is extremely dense. There are masses, with asymmetry shape. \n",
      "A patient, whose marital status is married, whose ethnicity is caucasian or white, whose ethnic group is non-hispanic or latino, whose age is 54. There are asymmetry findings in left breast. Left breast density is extremely dense. There are masses, with asymmetry shape. \n",
      "A patient, whose marital status is married, whose ethnicity is caucasian or white, whose ethnic group is non-hispanic or latino, whose age is 54. There are asymmetry findings in left breast. Left breast density is extremely dense. There are masses, with asymmetry shape. \n",
      "A patient, whose marital status is married, whose ethnicity is caucasian or white, whose ethnic group is non-hispanic or latino, whose age is 54. There are asymmetry findings in left breast. Left breast density is extremely dense. There are masses, with asymmetry shape. \n",
      "A patient, whose marital status is married, whose ethnicity is caucasian or white, whose ethnic group is non-hispanic or latino, whose age is 54. There are asymmetry findings in left breast. Left breast density is extremely dense. There are masses, with asymmetry shape. \n",
      "A patient, whose marital status is married, whose ethnicity is african american  or black, whose ethnic group is unreported, unknown, unavailable, whose age is 42. There are asymmetry findings in left breast. Left breast density is heterogeneously dense. There are masses, with focal asymmetry shape. \n",
      "A patient, whose marital status is married, whose ethnicity is african american  or black, whose ethnic group is unreported, unknown, unavailable, whose age is 42. There are asymmetry findings in left breast. Left breast density is heterogeneously dense. There are masses, with focal asymmetry shape. \n",
      "A patient, whose marital status is divorced, whose ethnicity is caucasian or white, whose ethnic group is non-hispanic or latino, whose age is 67. There are asymmetry findings in left breast. Left breast density is scattered. There are masses, with focal asymmetry shape. \n",
      "A patient, whose marital status is divorced, whose ethnicity is caucasian or white, whose ethnic group is non-hispanic or latino, whose age is 67. There are asymmetry findings in left breast. Left breast density is scattered. There are masses, with focal asymmetry shape. \n",
      "A patient, whose marital status is married, whose ethnicity is caucasian or white, whose ethnic group is non-hispanic or latino, whose age is 54. There are asymmetry findings in left breast. Left breast density is extremely dense. There are masses, with asymmetry shape. \n",
      "A patient, whose marital status is married, whose ethnicity is caucasian or white, whose ethnic group is non-hispanic or latino, whose age is 54. There are asymmetry findings in left breast. Left breast density is extremely dense. There are masses, with asymmetry shape. \n",
      "A patient, whose marital status is divorced, whose ethnicity is caucasian or white, whose ethnic group is non-hispanic or latino, whose age is 67. There are asymmetry findings in left breast. Left breast density is scattered. There are masses, with focal asymmetry shape. \n",
      "A patient, whose marital status is divorced, whose ethnicity is caucasian or white, whose ethnic group is non-hispanic or latino, whose age is 67. There are asymmetry findings in left breast. Left breast density is scattered. There are masses, with focal asymmetry shape. \n",
      "A patient, whose marital status is married, whose ethnicity is african american  or black, whose ethnic group is unreported, unknown, unavailable, whose age is 42. There are asymmetry findings in left breast. Left breast density is heterogeneously dense. There are masses, with focal asymmetry shape. \n",
      "A patient, whose marital status is married, whose ethnicity is african american  or black, whose ethnic group is unreported, unknown, unavailable, whose age is 42. There are asymmetry findings in left breast. Left breast density is heterogeneously dense. There are masses, with focal asymmetry shape. \n",
      "A patient, whose marital status is married, whose ethnicity is caucasian or white, whose ethnic group is non-hispanic or latino, whose age is 54. There are asymmetry findings in left breast. Left breast density is extremely dense. There are masses, with asymmetry shape. \n",
      "A patient, whose marital status is married, whose ethnicity is caucasian or white, whose ethnic group is non-hispanic or latino, whose age is 54. There are asymmetry findings in left breast. Left breast density is extremely dense. There are masses, with asymmetry shape. \n",
      "A patient, whose marital status is married, whose ethnicity is african american  or black, whose ethnic group is unreported, unknown, unavailable, whose age is 42. There are asymmetry findings in left breast. Left breast density is heterogeneously dense. There are masses, with focal asymmetry shape. \n",
      "A patient, whose marital status is married, whose ethnicity is african american  or black, whose ethnic group is unreported, unknown, unavailable, whose age is 42. There are asymmetry findings in left breast. Left breast density is heterogeneously dense. There are masses, with focal asymmetry shape. \n",
      "A patient, whose marital status is married, whose ethnicity is caucasian or white, whose ethnic group is non-hispanic or latino, whose age is 54. There are asymmetry findings in left breast. Left breast density is extremely dense. There are masses, with asymmetry shape. \n",
      "A patient, whose marital status is married, whose ethnicity is caucasian or white, whose ethnic group is non-hispanic or latino, whose age is 54. There are asymmetry findings in left breast. Left breast density is extremely dense. There are masses, with asymmetry shape. \n",
      "A patient, whose marital status is married, whose ethnicity is african american  or black, whose ethnic group is unreported, unknown, unavailable, whose age is 42. There are asymmetry findings in left breast. Left breast density is heterogeneously dense. There are masses, with focal asymmetry shape. \n",
      "A patient, whose marital status is married, whose ethnicity is african american  or black, whose ethnic group is unreported, unknown, unavailable, whose age is 42. There are asymmetry findings in left breast. Left breast density is heterogeneously dense. There are masses, with focal asymmetry shape. \n",
      "A patient, whose marital status is married, whose ethnicity is caucasian or white, whose ethnic group is non-hispanic or latino, whose age is 54. There are asymmetry findings in left breast. Left breast density is extremely dense. There are masses, with asymmetry shape. \n",
      "A patient, whose marital status is married, whose ethnicity is caucasian or white, whose ethnic group is non-hispanic or latino, whose age is 54. There are asymmetry findings in left breast. Left breast density is extremely dense. There are masses, with asymmetry shape. \n",
      "A patient, whose marital status is married, whose ethnicity is african american  or black, whose ethnic group is unreported, unknown, unavailable, whose age is 42. There are asymmetry findings in left breast. Left breast density is heterogeneously dense. There are masses, with focal asymmetry shape. \n",
      "A patient, whose marital status is married, whose ethnicity is african american  or black, whose ethnic group is unreported, unknown, unavailable, whose age is 42. There are asymmetry findings in left breast. Left breast density is heterogeneously dense. There are masses, with focal asymmetry shape. \n",
      "A patient, whose marital status is married, whose ethnicity is caucasian or white, whose ethnic group is non-hispanic or latino, whose age is 54. There are asymmetry findings in left breast. Left breast density is extremely dense. There are masses, with asymmetry shape. \n",
      "A patient, whose marital status is married, whose ethnicity is caucasian or white, whose ethnic group is non-hispanic or latino, whose age is 54. There are asymmetry findings in left breast. Left breast density is extremely dense. There are masses, with asymmetry shape. \n",
      "A patient, whose marital status is married, whose ethnicity is african american  or black, whose ethnic group is unreported, unknown, unavailable, whose age is 42. There are asymmetry findings in left breast. Left breast density is heterogeneously dense. There are masses, with focal asymmetry shape. \n",
      "A patient, whose marital status is married, whose ethnicity is african american  or black, whose ethnic group is unreported, unknown, unavailable, whose age is 42. There are asymmetry findings in left breast. Left breast density is heterogeneously dense. There are masses, with focal asymmetry shape. \n",
      "A patient, whose marital status is married, whose ethnicity is caucasian or white, whose ethnic group is non-hispanic or latino, whose age is 54. There are asymmetry findings in left breast. Left breast density is extremely dense. There are masses, with asymmetry shape. \n",
      "A patient, whose marital status is married, whose ethnicity is caucasian or white, whose ethnic group is non-hispanic or latino, whose age is 54. There are asymmetry findings in left breast. Left breast density is extremely dense. There are masses, with asymmetry shape. \n",
      "A patient, whose marital status is married, whose ethnicity is african american  or black, whose ethnic group is unreported, unknown, unavailable, whose age is 42. There are asymmetry findings in left breast. Left breast density is heterogeneously dense. There are masses, with focal asymmetry shape. \n",
      "A patient, whose marital status is married, whose ethnicity is african american  or black, whose ethnic group is unreported, unknown, unavailable, whose age is 42. There are asymmetry findings in left breast. Left breast density is heterogeneously dense. There are masses, with focal asymmetry shape. \n",
      "A patient, whose marital status is married, whose ethnicity is african american  or black, whose ethnic group is unreported, unknown, unavailable, whose age is 42. There are asymmetry findings in left breast. Left breast density is heterogeneously dense. There are masses, with focal asymmetry shape. \n",
      "A patient, whose marital status is married, whose ethnicity is african american  or black, whose ethnic group is unreported, unknown, unavailable, whose age is 42. There are asymmetry findings in left breast. Left breast density is heterogeneously dense. There are masses, with focal asymmetry shape. \n",
      "A patient, whose marital status is married, whose ethnicity is caucasian or white, whose ethnic group is non-hispanic or latino, whose age is 54. There are asymmetry findings in left breast. Left breast density is extremely dense. There are masses, with asymmetry shape. \n",
      "A patient, whose marital status is married, whose ethnicity is caucasian or white, whose ethnic group is non-hispanic or latino, whose age is 54. There are asymmetry findings in left breast. Left breast density is extremely dense. There are masses, with asymmetry shape. \n",
      "A patient, whose marital status is married, whose ethnicity is african american  or black, whose ethnic group is unreported, unknown, unavailable, whose age is 42. There are asymmetry findings in left breast. Left breast density is heterogeneously dense. There are masses, with focal asymmetry shape. \n",
      "A patient, whose marital status is married, whose ethnicity is african american  or black, whose ethnic group is unreported, unknown, unavailable, whose age is 42. There are asymmetry findings in left breast. Left breast density is heterogeneously dense. There are masses, with focal asymmetry shape. \n"
     ]
    }
   ],
   "source": [
    "for batch_data in test_dataloader:\n",
    "    processed_text_samples, text_samples = tab2prompt_breast_lesion('open_clip', 'train',\n",
    "                        batch_data, txt_processors, _context_length=None, _group_age=None)\n",
    "    print('\\n'.join(text_samples))\n",
    "    break"
   ]
  },
  {
   "cell_type": "code",
   "execution_count": 10,
   "metadata": {},
   "outputs": [],
   "source": [
    "_, _, _, _, tissueden, side, massshape, massmargin, massdens, calcfind, calcdistri, marital, ethnicity, ethnic_group, age, asses, findings = train_dataset.clinical_labels.iloc[0]"
   ]
  },
  {
   "cell_type": "code",
   "execution_count": 6,
   "metadata": {},
   "outputs": [],
   "source": [
    "desc_pd = train_dataset.desc_pd"
   ]
  },
  {
   "cell_type": "code",
   "execution_count": 7,
   "metadata": {},
   "outputs": [],
   "source": [
    "clinical_labels = desc_pd[[\"mass\", \"asymmetry\", \"arch_distortion\", \"calc\", 'tissueden', \n",
    "                        'side', \"massshape\", \"massmargin\", \n",
    "                        \"massdens\", \"calcfind\", \"calcdistri\", \n",
    "                        \"MARITAL_STATUS_DESC\", \"ETHNICITY_DESC\", 'ETHNIC_GROUP_DESC', \"age_at_study\", \"asses\"]].copy()"
   ]
  },
  {
   "cell_type": "code",
   "execution_count": 9,
   "metadata": {},
   "outputs": [],
   "source": [
    "clinical_labels = clinical_labels.loc[:,~clinical_labels.columns.duplicated()]"
   ]
  },
  {
   "cell_type": "code",
   "execution_count": 10,
   "metadata": {},
   "outputs": [],
   "source": [
    "breast_side_dict = {\n",
    "    'L': 'Left breast',\n",
    "    'R': 'Right breast',\n",
    "    'B': 'Both breasts'\n",
    "}\n",
    "\n",
    "tissueden_dict = {\n",
    "    1: \"Fatty\",\n",
    "    2: \"Scattered\",\n",
    "    3: \"Heterogeneously dense\",\n",
    "    4: \"Extremely Dense\",\n",
    "    5: \"Normal Male\",\n",
    "}\n",
    "\n",
    "massshape_dict = {\n",
    "    \"G\": \"Generic\",\n",
    "    \"R\": \"Round\",\n",
    "    \"O\": \"Oval\",\n",
    "    \"X\": \"Irregular\",\n",
    "    \"Q\": \"Questioned architectural distortion\",\n",
    "    \"A\": \"Architectural distortion\",\n",
    "    \"T\": \"Asymmetric tubular structure/solitary dilated duct\",\n",
    "    \"N\": \"Intramammary lymph nodes\",\n",
    "    \"B\": \"Global asymmetry\",\n",
    "    \"F\": \"Focal asymmetry\",\n",
    "    \"V\": \"Developing asymmetry\",\n",
    "    \"Y\": \"Lymph node\",\n",
    "    \"S\": \"Asymmetry\",\n",
    "}\n",
    "\n",
    "massmargin_dict = {\n",
    "    \"D\": \"Circumscribed\",\n",
    "    \"U\": \"Obscured\",\n",
    "    \"M\": \"Microlobulated\",\n",
    "    \"I\": \"Indistinct\",\n",
    "    \"S\": \"Spiculated\",\n",
    "}\n",
    "\n",
    "massdens_dict = {\n",
    "    \"+\": \"High density\",\n",
    "    \"=\": \"Isodense\",\n",
    "    \"-\": \"Low density\",\n",
    "    \"0\": \"Fat containing\",\n",
    "}\n",
    "\n",
    "calcfind_dict = {  # be careful with feature '9': Benign\n",
    "    \"A\": \"Amorphous\",\n",
    "    \"9\": \"Benign\",\n",
    "    \"H\": \"Coarse heterogenous\",\n",
    "    \"C\": \"Coarse popcornlike\",\n",
    "    \"D\": \"Dystrophic\",\n",
    "    \"E\": \"Rim\",\n",
    "    \"F\": \"Fine-linear\",\n",
    "    \"B\": \"Fine linear-branching\",\n",
    "    \"G\": \"Generic\",\n",
    "    \"I\": \"Fine pleomorphic\",\n",
    "    \"L\": \"Large rodlike\",\n",
    "    \"M\": \"Milk of calcium\",\n",
    "    \"J\": \"Oil cyst\",\n",
    "    \"K\": \"Pleomorphic\",\n",
    "    \"P\": \"Punctate\",\n",
    "    \"R\": \"Round\",\n",
    "    \"S\": \"Skin\",\n",
    "    \"O\": \"Lucent centered\",\n",
    "    \"U\": \"Suture\",\n",
    "    \"V\": \"Vascular\",\n",
    "    \"Q\": \"Coarse\",\n",
    "}\n",
    "\n",
    "calcdistri_dict = {\n",
    "    \"G\": \"Grouped\",\n",
    "    \"S\": \"Segmental\",\n",
    "    \"R\": \"Regional\",\n",
    "    \"D\": \"Diffuse/scattered\",\n",
    "    \"L\": \"Linear\",\n",
    "    \"C\": \"Clustered\",\n",
    "}\n",
    "\n"
   ]
  },
  {
   "cell_type": "code",
   "execution_count": 11,
   "metadata": {},
   "outputs": [],
   "source": [
    "clinical_labels.replace({'side': breast_side_dict}, inplace=True)\n",
    "clinical_labels.replace({'tissueden': tissueden_dict}, inplace=True)\n",
    "clinical_labels.replace({'massshape': massshape_dict}, inplace=True)\n",
    "clinical_labels.replace({'massmargin': massmargin_dict}, inplace=True)\n",
    "clinical_labels.replace({'massdens': massdens_dict}, inplace=True)\n",
    "clinical_labels.replace({'calcfind': calcfind_dict}, inplace=True, regex=True)\n",
    "clinical_labels.replace({'calcdistri': calcdistri_dict}, inplace=True)\n",
    "\n",
    "clinical_labels.replace({'mass': {0: float(\"nan\"), 1: 'mass'}}, inplace=True)\n",
    "clinical_labels.replace({'asymmetry': {0: float(\"nan\"), 1: 'asymmetry'}}, inplace=True)\n",
    "clinical_labels.replace({'arch_distortion': {0: float(\"nan\"), 1: 'architectural distortion'}}, inplace=True)\n",
    "clinical_labels.replace({'calc': {0: float(\"nan\"), 1: 'calcification'}}, inplace=True)"
   ]
  },
  {
   "cell_type": "code",
   "execution_count": 12,
   "metadata": {},
   "outputs": [],
   "source": [
    "clinical_labels['findings'] = clinical_labels[['mass', 'asymmetry', 'arch_distortion', 'calc']].apply(\n",
    "    lambda x: ', '.join(x.dropna().astype(str)),\n",
    "    axis=1\n",
    ")"
   ]
  },
  {
   "cell_type": "code",
   "execution_count": 24,
   "metadata": {},
   "outputs": [
    {
     "data": {
      "text/plain": [
       "Focal asymmetry                        251\n",
       "Questioned architectural distortion     99\n",
       "Asymmetry                               98\n",
       "Oval                                    71\n",
       "Irregular                               49\n",
       "Architectural distortion                39\n",
       "Generic                                 26\n",
       "Round                                   22\n",
       "Developing asymmetry                     4\n",
       "Global asymmetry                         1\n",
       "Name: massshape, dtype: int64"
      ]
     },
     "execution_count": 24,
     "metadata": {},
     "output_type": "execute_result"
    }
   ],
   "source": [
    "clinical_labels[\"massshape\"].value_counts()"
   ]
  },
  {
   "cell_type": "code",
   "execution_count": 29,
   "metadata": {},
   "outputs": [
    {
     "data": {
      "text/plain": [
       "Heterogeneously dense    722\n",
       "Scattered                561\n",
       "Extremely Dense          116\n",
       "Fatty                     48\n",
       "Name: tissueden, dtype: int64"
      ]
     },
     "execution_count": 29,
     "metadata": {},
     "output_type": "execute_result"
    }
   ],
   "source": [
    "clinical_labels[\"tissueden\"].value_counts()"
   ]
  },
  {
   "cell_type": "code",
   "execution_count": null,
   "metadata": {},
   "outputs": [],
   "source": []
  }
 ],
 "metadata": {
  "kernelspec": {
   "display_name": "multimedal",
   "language": "python",
   "name": "python3"
  },
  "language_info": {
   "codemirror_mode": {
    "name": "ipython",
    "version": 3
   },
   "file_extension": ".py",
   "mimetype": "text/x-python",
   "name": "python",
   "nbconvert_exporter": "python",
   "pygments_lexer": "ipython3",
   "version": "3.8.18"
  }
 },
 "nbformat": 4,
 "nbformat_minor": 2
}
